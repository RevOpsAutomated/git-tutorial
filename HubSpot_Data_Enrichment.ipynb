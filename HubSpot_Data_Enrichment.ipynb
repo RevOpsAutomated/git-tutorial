{
  "nbformat": 4,
  "nbformat_minor": 0,
  "metadata": {
    "colab": {
      "name": "HubSpot Data Enrichment.ipynb",
      "provenance": [],
      "authorship_tag": "ABX9TyMGH6xS+t31OTcWAEtnE921",
      "include_colab_link": true
    },
    "kernelspec": {
      "name": "python3",
      "display_name": "Python 3"
    },
    "language_info": {
      "name": "python"
    }
  },
  "cells": [
    {
      "cell_type": "markdown",
      "metadata": {
        "id": "view-in-github",
        "colab_type": "text"
      },
      "source": [
        "<a href=\"https://colab.research.google.com/github/RevOpsAutomated/git-tutorial/blob/main/HubSpot_Data_Enrichment.ipynb\" target=\"_parent\"><img src=\"https://colab.research.google.com/assets/colab-badge.svg\" alt=\"Open In Colab\"/></a>"
      ]
    },
    {
      "cell_type": "code",
      "source": [
        "import os\n",
        "import requests\n",
        "import json\n",
        "\n",
        "def main(event):\n",
        "\n",
        "  #Configuration and API cal\n",
        "  domain = event.get('inputFields').get('domain')\n",
        "  email = event.get('inputFields').get('email')\n",
        "  company = event.get('inputFields').get('company')\n",
        "\n",
        "\n",
        "url = \"https://api.apollo.io/v1/people/match\"\n",
        "\n",
        "data = {\n",
        "    \"api_key\": \"Mwr8hq2RkYGM4hJKwZKSJA\",\n",
        "    \"first_name\": \"Kate\",\n",
        "    \"last_name\": \"Marzolla\",\n",
        "    \"company\": company,\n",
        "    \"email\": email,\n",
        "    \"domain\": domain\n",
        "}\n",
        "\n",
        "headers = {\n",
        "    'Cache-Control': 'no-cache',\n",
        "    'Content-Type': 'application/json'\n",
        "\n",
        "}\n",
        "\n",
        "\n",
        "response = requests.request(\"POST\", url, headers=headers, json=data)\n",
        "\n",
        "#print(response.text)\n",
        "\n",
        "output = json.loads(response.text)\n",
        "\n",
        "name = output[\"person\"][\"name\"]\n",
        "email = output[\"person\"][\"email\"]\n",
        "phone = output[\"person\"][\"organization\"][\"phone\"]\n",
        "\n",
        "print(name,email,phone)\n",
        "\n",
        "# retrurn the data point(s) to HubSpot \n",
        "\n",
        "return {\n",
        "    \"outputFields\": {\n",
        "        \"phone\": phone,\n",
        "    }\n",
        "}\n",
        "\n"
      ],
      "metadata": {
        "id": "lhYVhedmkem7"
      },
      "execution_count": null,
      "outputs": []
    },
    {
      "cell_type": "code",
      "source": [
        "import os\n",
        "import requests\n",
        "import json\n",
        "\n",
        "def main(event):\n",
        "\n",
        "  #Configuration and API cal\n",
        "  domain = event.get('inputFields').get('domain')\n",
        "  email = event.get('inputFields').get('email')\n",
        "  company = event.get('inputFields').get('company')\n",
        "  \n",
        "  print(email,domain,company)"
      ],
      "metadata": {
        "id": "SMCH5bVsO8Rz"
      },
      "execution_count": null,
      "outputs": []
    },
    {
      "cell_type": "code",
      "execution_count": null,
      "metadata": {
        "colab": {
          "base_uri": "https://localhost:8080/"
        },
        "id": "4Met98nFcou1",
        "outputId": "fe5bbac1-f434-45fc-fc27-d91deb20f659"
      },
      "outputs": [
        {
          "output_type": "stream",
          "name": "stdout",
          "text": [
            "{\"healthy\":true,\"is_logged_in\":true}\n"
          ]
        }
      ],
      "source": [
        "import os\n",
        "import requests\n",
        "import json\n",
        "import requests\n",
        "\n",
        "url = \"https://api.apollo.io/v1/auth/health\"\n",
        "\n",
        "querystring = {\n",
        "    \"api_key\": \"Mwr8hq2RkYGM4hJKwZKSJA\"\n",
        "}\n",
        "\n",
        "headers = {\n",
        "    'Cache-Control': 'no-cache',\n",
        "    'Content-Type': 'application/json'\n",
        "}\n",
        "\n",
        "response = requests.request(\"GET\", url, headers=headers, params=querystring)\n",
        "\n",
        "print(response.text)"
      ]
    }
  ]
}